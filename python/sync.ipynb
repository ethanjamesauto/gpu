{
 "cells": [
  {
   "cell_type": "markdown",
   "metadata": {},
   "source": [
    "This notebook tests logic expressions used to generate vga timings. This uses standard VGA (http://tinyvga.com/vga-timing/640x480@60Hz). \n",
    "\n",
    "My graphics card uses a single 4-bit counter to draw characters and divide the clock by 8.\n",
    "The divide-by-8 clock is then used to drive two 4-bit counters to count the horizontal position. Because VGA is 800 pixels horizontally, this horizontal counter goes to 100 before being reset (it is driven by the divide-by-8 counter).\n",
    "\n",
    "The horizontal counter's reset signal also clocks the vertical counter, which is 3 4-bit counters. This counter runs up to 525 before resetting.\n",
    "\n",
    "The horizontal sync uses an S-R latch with with active-low inputs. The expressions are:\n",
    "r_expr = ~(n[1] & n[4] & n[6] & ~n[3])\n",
    "s_expr = ~(n[1] & n[2] & n[3] & n[4])\n",
    "(n[0] is the LSB of the horizontal counter, n[1] is the second-least significant bit, etc.)\n",
    "This expressions could be implemented using a 2x4 input NAND IC and an inverter IC.\n",
    "\n",
    "The horizontal counter is reset at line 100 (line 800 in VGA, but divided by 8). The expression is as follows:\n",
    "line_expr = ~(n[2] & n[5] & n[6])\n",
    "\n",
    "The vertical sync doesn't use an S-R latch; instead it simply uses a logic expression:\n",
    "vsync_expr = ~(n[1] & ~n[2] & n[3] & ~n[4] & n[5] & n[6] & n[7] & n[8])\n",
    "line_expr = ~(n[2] & n[3] & n[9])\n",
    "\n",
    "Oh, one more thing: The vertical reset signal should reset at 525 if asynchronous-reset counters are used for the vertical counter, or 524 if synchronous reset counters are used. The expression above works for line 524. Asynchronous counters could be used instead of synchronous counters by loading the asynchronous counters with 0 instead of using the clear signal."
   ]
  },
  {
   "cell_type": "code",
   "execution_count": 1,
   "metadata": {},
   "outputs": [],
   "source": [
    "import matplotlib.pyplot as plt\n",
    "\n",
    "def bits(num, size):\n",
    "    bits = []\n",
    "    for i in range(0, size):\n",
    "        bits.append(num & 1)\n",
    "        num >>= 1\n",
    "    return bits"
   ]
  },
  {
   "cell_type": "code",
   "execution_count": 2,
   "metadata": {},
   "outputs": [],
   "source": [
    "s = []\n",
    "r = []\n",
    "line = []\n",
    "q = []\n",
    "length = 101\n",
    "\n",
    "for i in range(0, length):\n",
    "    n = bits(i, 8) #split the number into an array of bits\n",
    "    \n",
    "    r_expr = 1 - (n[1] & n[4] & n[6] & ~n[3]) #reset expression\n",
    "    s_expr = 1 - (n[1] & n[2] & n[3] & n[4]) #set expression\n",
    "    line_expr = 1 - (n[2] & n[5] & n[6]) #next line expression\n",
    "    \n",
    "    s.append(s_expr)\n",
    "    r.append(r_expr)\n",
    "    line.append(line_expr)"
   ]
  },
  {
   "cell_type": "code",
   "execution_count": 3,
   "metadata": {},
   "outputs": [],
   "source": [
    "for i in range(0, length):\n",
    "    not_s = ~s[i] & 1\n",
    "    not_r = ~r[i] & 1\n",
    "    if (not_s and not_r):\n",
    "        print('invalid state!')\n",
    "    \n",
    "    if (i == 0):\n",
    "        q.append(1)\n",
    "    elif (not_s):\n",
    "        q.append(1)\n",
    "    elif (not_r):\n",
    "        q.append(0)\n",
    "    else:\n",
    "        q.append(q[i - 1])\n",
    "for i in range(0, length):\n",
    "    s[i] += 1.5\n",
    "    q[i] += 3\n",
    "    line[i] += 4.5"
   ]
  },
  {
   "cell_type": "code",
   "execution_count": 4,
   "metadata": {
    "scrolled": true
   },
   "outputs": [
    {
     "data": {
      "text/plain": [
       "<matplotlib.legend.Legend at 0x1db7c365190>"
      ]
     },
     "execution_count": 4,
     "metadata": {},
     "output_type": "execute_result"
    },
    {
     "data": {
      "image/png": "[encoded data removed]",
      "text/plain": [
       "<Figure size 640x480 with 1 Axes>"
      ]
     },
     "metadata": {
      "needs_background": "light"
     },
     "output_type": "display_data"
    }
   ],
   "source": [
    "plt.figure(figsize=(8, 6), dpi=80)\n",
    "plt.plot(s, label='~s')\n",
    "plt.plot(r, label='~r')\n",
    "plt.plot(q, label='q')\n",
    "plt.plot(line, label='next line')\n",
    "plt.legend(loc='upper center')"
   ]
  },
  {
   "cell_type": "code",
   "execution_count": 5,
   "metadata": {},
   "outputs": [],
   "source": [
    "vsync = []\n",
    "line = []\n",
    "length = 526\n",
    "\n",
    "for i in range(0, length):\n",
    "    n = bits(i, 12) #split the number into an array of bits\n",
    "    \n",
    "    vsync_expr = 1 - (n[1] & ~n[2] & n[3] & ~n[4] & n[5] & n[6] & n[7] & n[8]) #vsync expression\n",
    "    line_expr = 1 - (n[2] & n[3] & n[9]) #next line expression\n",
    "    \n",
    "    vsync.append(vsync_expr)\n",
    "    line.append(line_expr)"
   ]
  },
  {
   "cell_type": "code",
   "execution_count": 6,
   "metadata": {},
   "outputs": [],
   "source": [
    "for i in range(0, length):\n",
    "    #s[i] += 1.5\n",
    "    #q[i] += 3\n",
    "    line[i] += 1.5"
   ]
  },
  {
   "cell_type": "code",
   "execution_count": 7,
   "metadata": {},
   "outputs": [
    {
     "data": {
      "text/plain": [
       "<matplotlib.legend.Legend at 0x1db6223dc10>"
      ]
     },
     "execution_count": 7,
     "metadata": {},
     "output_type": "execute_result"
    },
    {
     "data": {
      "image/png": "[encoded data removed]",
      "text/plain": [
       "<Figure size 640x480 with 1 Axes>"
      ]
     },
     "metadata": {
      "needs_background": "light"
     },
     "output_type": "display_data"
    }
   ],
   "source": [
    "zoom = 0\n",
    "plt.figure(figsize=(8, 6), dpi=80)\n",
    "plt.plot(vsync[zoom:], label='vsync')\n",
    "plt.plot(line[zoom:], label='next line')\n",
    "plt.legend(loc='upper center')"
   ]
  },
  {
   "cell_type": "code",
   "execution_count": null,
   "metadata": {},
   "outputs": [],
   "source": []
  },
  {
   "cell_type": "code",
   "execution_count": null,
   "metadata": {},
   "outputs": [],
   "source": []
  },
  {
   "cell_type": "code",
   "execution_count": null,
   "metadata": {},
   "outputs": [],
   "source": []
  }
 ],
 "metadata": {
  "kernelspec": {
   "display_name": "Python 3 (ipykernel)",
   "language": "python",
   "name": "python3"
  },
  "language_info": {
   "codemirror_mode": {
    "name": "ipython",
    "version": 3
   },
   "file_extension": ".py",
   "mimetype": "text/x-python",
   "name": "python",
   "nbconvert_exporter": "python",
   "pygments_lexer": "ipython3",
   "version": "3.9.9"
  }
 },
 "nbformat": 4,
 "nbformat_minor": 2
}
