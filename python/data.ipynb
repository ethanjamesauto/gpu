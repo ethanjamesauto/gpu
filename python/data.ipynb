{
 "cells": [
  {
   "cell_type": "code",
   "execution_count": 412,
   "metadata": {},
   "outputs": [],
   "source": [
    "import cv2 as cv\n",
    "import numpy as np"
   ]
  },
  {
   "cell_type": "code",
   "execution_count": 413,
   "metadata": {},
   "outputs": [],
   "source": [
    "def rgb_to_hex(in_col):\n",
    "    col = 0\n",
    "    col += int(in_col[2] / 64) & 0b11\n",
    "    col <<= 3\n",
    "    col += int(in_col[1] / 32) & 0b111\n",
    "    col <<= 2\n",
    "    col += int(in_col[0] / 64) & 0b11\n",
    "    col <<= 1\n",
    "    if in_col[3] > 0:\n",
    "        col += 1\n",
    "    return col"
   ]
  },
  {
   "cell_type": "code",
   "execution_count": 414,
   "metadata": {},
   "outputs": [
    {
     "data": {
      "text/plain": [
       "39"
      ]
     },
     "execution_count": 414,
     "metadata": {},
     "output_type": "execute_result"
    }
   ],
   "source": [
    "rgb_to_hex([255, 132, 56, 1])"
   ]
  },
  {
   "cell_type": "code",
   "execution_count": 415,
   "metadata": {},
   "outputs": [
    {
     "name": "stdout",
     "output_type": "stream",
     "text": [
      "00 00 00 00 00 00 00 00 00 00 49 49 49 49 00 00 00 00 00 00 00 00 00 00 00 00 00 00 00 00 02 00 00 00 00 00 00 49 49 49 49 e1 f5 f5 e1 49 00 00 00 00 00 00 00 00 00 00 00 00 00 00 00 02 00 00 00 00 00 00 00 49 e1 9b 9b e1 e1 9b 9b 49 49 00 00 00 00 00 00 00 00 00 00 00 00 00 02 00 00 00 00 00 00 49 e1 e1 e1 9b 9b 9b 9b e1 9b 9b 49 00 00 00 00 00 00 00 00 00 00 00 00 02 00 00 00 00 00 49 f5 e1 e1 9b 9b 9b 9b e1 e1 f5 9b 9b 49 00 00 00 00 00 00 00 00 00 00 00 02 00 00 00 00 49 9b f5 f5 9b f5 e1 f5 e1 e1 f5 f5 f5 9b 49 00 00 00 00 00 00 00 00 00 00 00 02 00 00 00 00 49 e1 e1 e1 f5 f5 f5 f5 f5 f5 f5 e1 e1 9b 49 00 00 00 00 00 00 00 00 00 00 00 02 00 00 00 00 00 49 9b e1 e1 e1 e1 49 e1 49 9b 9b e1 9b 9b 49 00 00 00 00 00 00 00 00 00 00 02 00 00 00 00 9b 49 9b e1 e1 49 49 eb 49 eb 49 49 9b e1 9b 49 00 00 00 00 00 00 00 00 00 00 02 00 00 00 00 49 00 49 01 49 db db db 49 db db db 01 9b 9b 49 00 00 00 00 00 00 00 00 00 00 02 00 00 00 00 49 00 00 01 db ff 01 eb db 01 ff db 01 9b 49 00 00 00 00 00 00 00 00 00 00 00 02 00 00 00 00 00 00 00 01 db ff 01 eb eb 01 ff db 01 9b 49 00 00 00 00 00 00 00 00 00 00 00 02 00 00 00 00 00 00 00 01 db eb eb eb eb eb eb db 01 49 00 00 00 00 00 00 00 00 00 00 00 00 02 00 00 00 00 00 00 45 45 01 db eb eb eb eb db 01 45 45 00 00 00 00 00 00 00 00 00 00 00 00 02 00 00 00 00 00 45 ff ef 01 01 db eb eb db 01 01 ff ef 45 00 00 00 00 00 00 00 00 00 00 00 02 00 00 00 00 00 45 ef ef 9f 9f 01 01 01 01 9f 45 ef ef 45 00 00 00 00 00 00 00 00 00 00 00 02 00 00 00 00 45 45 45 45 45 ef ef ef ef ef ef 9f 45 45 45 45 00 00 00 00 00 00 00 00 00 00 02 00 00 00 00 45 db db 45 9f 9f ef ff ff ff ef 9f 45 81 db 45 00 00 00 00 00 00 00 00 00 00 02 00 00 00 00 45 45 81 01 45 9f 9f ef ef ef 9f 45 01 81 45 45 00 00 00 00 00 00 00 00 00 00 02 00 00 00 00 45 9f 45 00 01 45 9f 9f 9f 9f 45 01 00 45 9f 45 00 00 00 00 00 00 00 00 00 00 02 00 00 00 00 45 45 45 01 01 9f 45 45 45 45 9f 01 01 45 45 45 00 00 00 00 00 00 00 00 00 00 02 00 00 00 00 01 eb eb 01 45 45 9f ff ef 9f 45 45 01 eb eb 01 00 00 00 00 00 00 00 00 00 00 02 00 00 00 00 01 db db 01 81 81 45 45 45 45 81 81 01 db db 01 00 00 00 00 00 00 00 00 00 00 02 00 00 00 00 00 01 01 01 81 81 81 81 01 81 81 81 01 01 01 00 00 00 00 00 00 00 00 00 00 00 02 00 00 00 00 00 00 00 01 81 db 81 81 01 81 81 81 01 00 00 00 00 00 00 00 00 00 00 00 00 00 02 00 00 00 00 00 00 00 01 81 81 81 81 01 81 81 81 01 00 00 00 00 00 00 00 00 00 00 00 00 00 02 00 00 00 00 00 00 00 00 01 81 81 81 01 81 81 01 00 00 00 00 00 00 00 00 00 00 00 00 00 00 02 00 00 00 00 00 00 00 00 01 81 81 81 01 81 81 01 00 00 00 00 00 00 00 00 00 00 00 00 00 00 02 00 00 00 00 00 00 00 00 01 9f 81 81 01 81 81 01 00 00 00 00 00 00 00 00 00 00 00 00 00 00 02 00 00 00 00 00 00 00 00 01 ef ef 9f 01 9f 9f 01 00 00 00 00 00 00 00 00 00 00 00 00 00 00 02 00 00 00 00 00 00 00 00 00 01 01 01 01 01 01 01 00 00 00 00 00 00 00 00 00 00 00 00 00 00 02 00 00 00 00 00 00 00 00 00 00 00 00 00 00 00 00 00 00 00 00 00 00 00 00 00 00 00 00 00 00 02 00 00 00 00 00 00 00 00 00 00 00 00 00 00 00 00 00 00 00 00 00 00 00 00 00 00 00 00 00 00 02 00 00 00 00 00 00 00 00 00 00 00 00 00 00 00 00 00 00 00 00 00 00 00 00 00 00 00 00 00 00 02 00 00 00 00 00 00 00 00 00 00 00 00 00 00 00 00 00 00 00 00 00 00 00 00 00 00 00 00 00 00 02 00 00 00 00 00 00 00 00 00 00 00 00 00 00 00 00 00 00 00 00 00 00 00 00 00 00 00 00 00 00 02 00 00 00 00 00 00 00 00 00 00 00 00 00 00 00 00 00 00 00 00 00 00 00 00 00 00 00 00 00 00 02 00 00 00 00 00 00 00 00 00 00 00 00 00 00 00 00 00 00 00 00 00 00 00 00 00 00 00 00 00 00 02 00 00 00 00 00 00 00 00 00 00 00 00 00 00 00 00 00 00 00 00 00 00 00 00 00 00 00 00 00 00 02 00 00 00 00 00 00 00 00 00 00 00 00 00 00 00 00 00 00 00 00 00 00 00 00 00 00 00 00 00 00 02 00 00 00 00 00 00 00 00 00 00 00 00 00 00 00 00 00 00 00 00 00 00 00 00 00 00 00 00 00 00 02 00 00 00 00 00 00 00 00 00 00 00 00 00 00 00 00 00 00 00 00 00 00 00 00 00 00 00 00 00 00 02 00 00 00 00 00 00 00 00 00 00 00 00 00 00 00 00 00 00 00 00 00 00 00 00 00 00 00 00 00 00 02 00 00 00 00 00 00 00 00 00 00 00 00 00 00 00 00 00 00 00 00 00 00 00 00 00 00 00 00 00 00 02 00 00 00 00 00 00 00 00 00 00 00 00 00 00 00 00 00 00 00 00 00 00 00 00 00 00 00 00 00 00 02 00 00 00 00 00 00 00 00 00 00 00 00 00 00 00 00 00 00 00 00 00 00 00 00 00 00 00 00 00 00 02 00 00 00 00 00 00 00 00 00 00 00 00 00 00 00 00 00 00 00 00 00 00 00 00 00 00 00 00 00 00 02 00 00 00 00 00 00 00 00 00 00 00 00 00 00 00 00 00 00 00 00 00 00 00 00 00 00 00 00 00 00 02 00 00 00 00 00 00 00 00 00 00 00 00 00 00 00 00 00 00 00 00 00 00 00 00 00 00 00 00 00 00 02 00 00 00 00 00 00 00 00 00 00 00 00 00 00 00 00 00 00 00 00 00 00 00 00 00 00 00 00 00 00 02 FE\n"
     ]
    }
   ],
   "source": [
    "img = cv.imread('img.png', cv.IMREAD_UNCHANGED)\n",
    "sprite = np.empty((img.shape[0:2]), dtype='int8')\n",
    "for i in range(0, img.shape[0]):\n",
    "    for j in range(0, img.shape[1]):\n",
    "        col = rgb_to_hex(img[i][j])\n",
    "        sprite[i][j] = col\n",
    "        print(format(col, '02x'), end=' ')\n",
    "    print('02', end=' ')\n",
    "print('FE')"
   ]
  },
  {
   "cell_type": "code",
   "execution_count": 416,
   "metadata": {},
   "outputs": [],
   "source": [
    "screen = np.empty((sprite.shape[0], sprite.shape[1], 3))\n",
    "for i in range(0, sprite.shape[0]):\n",
    "    for j in range(0, sprite.shape[1]):\n",
    "        screen[i][j][0] = ((sprite[i][j] >> 6) & 0b11) / 3\n",
    "        screen[i][j][1] = ((sprite[i][j] >> 3) & 0b111) / 7\n",
    "        screen[i][j][2] = ((sprite[i][j] >> 1) & 0b11) / 3"
   ]
  },
  {
   "cell_type": "code",
   "execution_count": 417,
   "metadata": {},
   "outputs": [
    {
     "data": {
      "text/plain": [
       "<matplotlib.image.AxesImage at 0x20bffc279d0>"
      ]
     },
     "execution_count": 417,
     "metadata": {},
     "output_type": "execute_result"
    },
    {
     "data": {
      "image/png": "[encoded data removed]",
      "text/plain": [
       "<Figure size 432x288 with 1 Axes>"
      ]
     },
     "metadata": {
      "needs_background": "light"
     },
     "output_type": "display_data"
    }
   ],
   "source": [
    "import matplotlib.pyplot as plt\n",
    "plt.imshow(screen)"
   ]
  }
 ],
 "metadata": {
  "kernelspec": {
   "display_name": "Python 3.9.9 64-bit",
   "language": "python",
   "name": "python3"
  },
  "language_info": {
   "codemirror_mode": {
    "name": "ipython",
    "version": 3
   },
   "file_extension": ".py",
   "mimetype": "text/x-python",
   "name": "python",
   "nbconvert_exporter": "python",
   "pygments_lexer": "ipython3",
   "version": "3.9.9"
  },
  "orig_nbformat": 4,
  "vscode": {
   "interpreter": {
    "hash": "b8cd98ac651c668ce2c6203d75b23f2d5bc0a45f06efaf825f1ea3a340dc3a78"
   }
  }
 },
 "nbformat": 4,
 "nbformat_minor": 2
}
