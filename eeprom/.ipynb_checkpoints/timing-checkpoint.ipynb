{
 "cells": [
  {
   "cell_type": "code",
   "execution_count": 1,
   "metadata": {},
   "outputs": [],
   "source": [
    "import matplotlib.pyplot as plt"
   ]
  },
  {
   "cell_type": "code",
   "execution_count": 2,
   "metadata": {},
   "outputs": [],
   "source": [
    "vga_cga = [640, 16, 96, 48, 400, 12, 2, 35]\n",
    "vga_ega = [640, 16, 96, 48, 350, 37, 2, 60]\n",
    "vga_real = [640, 16, 96, 48, 480, 10, 2, 33]\n",
    "vga_letter = [512, 64, 16, 96, 48, 64, 480, 10, 2, 33]"
   ]
  },
  {
   "cell_type": "code",
   "execution_count": 4,
   "metadata": {},
   "outputs": [
    {
     "name": "stdout",
     "output_type": "stream",
     "text": [
      "['  1000000000', '  1001000000', '  1001010000', '  1010110000', 736, 800, 480, 490, 492, 525] \n",
      " [512, 64, 16, 96, 48, 64, 480, 10, 2, 33]\n"
     ]
    }
   ],
   "source": [
    "timing_orig = vga_letter.copy()\n",
    "refresh = 60\n",
    "\n",
    "timing = timing_orig.copy()\n",
    "for i in range(1, 6):\n",
    "    timing[i] += timing[i - 1]\n",
    "for i in range(7, 10):\n",
    "    timing[i] += timing[i - 1]\n",
    "\n",
    "for i in range(0, 6):\n",
    "    #timing[i] /=8\n",
    "    timing[i] = int(round(timing[i]))\n",
    "    timing[i] = format(int(timing[i]), '12b')\n",
    "    #timing_orig[i] /= 4\n",
    "\n",
    "for i in range(4, 8):\n",
    "    pass\n",
    "    #timing[i] *= 320\n",
    "    #timing[i] = format(int(timing[i]), '016b')\n",
    "    #timing_orig[i] /= 4\n",
    "\n",
    "print(timing, '\\n', vga_letter)"
   ]
  },
  {
   "cell_type": "code",
   "execution_count": null,
   "metadata": {},
   "outputs": [],
   "source": []
  },
  {
   "cell_type": "code",
   "execution_count": null,
   "metadata": {},
   "outputs": [],
   "source": []
  }
 ],
 "metadata": {
  "kernelspec": {
   "display_name": "Python 3 (ipykernel)",
   "language": "python",
   "name": "python3"
  },
  "language_info": {
   "codemirror_mode": {
    "name": "ipython",
    "version": 3
   },
   "file_extension": ".py",
   "mimetype": "text/x-python",
   "name": "python",
   "nbconvert_exporter": "python",
   "pygments_lexer": "ipython3",
   "version": "3.9.9"
  },
  "vscode": {
   "interpreter": {
    "hash": "2a8dfe095fce2b5e88c64a2c3ee084c8e0e0d70b23e7b95b1cfb538be294c5c8"
   }
  }
 },
 "nbformat": 4,
 "nbformat_minor": 2
}
