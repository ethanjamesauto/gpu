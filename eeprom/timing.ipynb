{
 "cells": [
  {
   "cell_type": "code",
   "execution_count": 7,
   "metadata": {},
   "outputs": [],
   "source": [
    "import matplotlib.pyplot as plt"
   ]
  },
  {
   "cell_type": "code",
   "execution_count": 8,
   "metadata": {},
   "outputs": [],
   "source": [
    "vga_cga = [640, 16, 96, 48, 400, 12, 2, 35]\n",
    "vga_ega = [640, 16, 96, 48, 350, 37, 2, 60]\n",
    "vga_real = [640, 16, 96, 48, 480, 10, 2, 33]"
   ]
  },
  {
   "cell_type": "code",
   "execution_count": 9,
   "metadata": {},
   "outputs": [
    {
     "data": {
      "text/plain": [
       "[80.0, 82.0, 94.0, 100.0, 480, 490, 492, 525]"
      ]
     },
     "execution_count": 9,
     "metadata": {},
     "output_type": "execute_result"
    }
   ],
   "source": [
    "timing_orig = vga_real.copy()\n",
    "refresh = 60\n",
    "\n",
    "timing = timing_orig.copy()\n",
    "for i in range(1, 4):\n",
    "    timing[i] += timing[i - 1]\n",
    "for i in range(5, 8):\n",
    "    timing[i] += timing[i - 1]\n",
    "\n",
    "for i in range(0, 4):\n",
    "    timing[i] /=8\n",
    "    #timing[i] = int(round(timing[i]))\n",
    "    #timing[i] = format(int(timing[i]), '012b')\n",
    "    #timing_orig[i] /= 4\n",
    "\n",
    "for i in range(4, 8):\n",
    "    pass\n",
    "    #timing[i] *= 320\n",
    "    #timing[i] = format(int(timing[i]), '016b')\n",
    "    #timing_orig[i] /= 4\n",
    "\n",
    "timing"
   ]
  },
  {
   "cell_type": "code",
   "execution_count": null,
   "metadata": {},
   "outputs": [],
   "source": []
  }
 ],
 "metadata": {
  "kernelspec": {
   "display_name": "Python 3.9.9 64-bit",
   "language": "python",
   "name": "python3"
  },
  "language_info": {
   "codemirror_mode": {
    "name": "ipython",
    "version": 3
   },
   "file_extension": ".py",
   "mimetype": "text/x-python",
   "name": "python",
   "nbconvert_exporter": "python",
   "pygments_lexer": "ipython3",
   "version": "3.9.9"
  },
  "orig_nbformat": 4,
  "vscode": {
   "interpreter": {
    "hash": "b8cd98ac651c668ce2c6203d75b23f2d5bc0a45f06efaf825f1ea3a340dc3a78"
   }
  }
 },
 "nbformat": 4,
 "nbformat_minor": 2
}
