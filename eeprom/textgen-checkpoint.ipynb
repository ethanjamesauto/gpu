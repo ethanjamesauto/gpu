{
 "cells": [
  {
   "cell_type": "code",
   "execution_count": null,
   "metadata": {},
   "outputs": [],
   "source": [
    "import cv2\n",
    "import numpy as np"
   ]
  },
  {
   "cell_type": "code",
   "execution_count": null,
   "metadata": {},
   "outputs": [],
   "source": [
    "img = cv2.imread('char.png', cv2.IMREAD_UNCHANGED)\n"
   ]
  },
  {
   "cell_type": "code",
   "execution_count": null,
   "metadata": {},
   "outputs": [
    {
     "data": {
      "text/plain": [
       "32768"
      ]
     },
     "execution_count": 4,
     "metadata": {},
     "output_type": "execute_result"
    }
   ],
   "source": [
    "chars = np.empty((16, 16, 16, 8), dtype='int8')\n",
    "for r in range(0, 16):\n",
    "    for c in range(0, 16):\n",
    "        for i in range(0, 16):\n",
    "            for j in range(0, 8):\n",
    "                row = r * 16 + i\n",
    "                col = c * 8 + c + j\n",
    "                if img[row][col][0] > 0:\n",
    "                    img[row][col] = [100, 100, 100, 0]\n",
    "                    chars[r][c][i][j] = 0xff\n",
    "                else:\n",
    "                    chars[r][c][i][j] = 0\n",
    "chars = chars.reshape(256, 16, 8)\n",
    "open('eeprom.bin', 'wb').write(chars.tobytes())\n"
   ]
  },
  {
   "cell_type": "code",
   "execution_count": null,
   "metadata": {},
   "outputs": [
    {
     "data": {
      "text/plain": [
       "4096"
      ]
     },
     "execution_count": 5,
     "metadata": {},
     "output_type": "execute_result"
    }
   ],
   "source": [
    "chars = np.empty((16, 16, 16), dtype='int8')\n",
    "for r in range(0, 16):\n",
    "    for c in range(0, 16):\n",
    "        for i in range(0, 16):\n",
    "            num = 0\n",
    "            for j in range(0, 8):\n",
    "                row = r * 16 + i\n",
    "                col = c * 8 + c + j\n",
    "\n",
    "                num <<= 1\n",
    "                if img[row][col][0] > 0:\n",
    "                    img[row][col] = [100, 100, 100, 0]\n",
    "                    num |= 1\n",
    "                else:\n",
    "                    num |= 0\n",
    "            chars[r][c][i] = num\n",
    "chars = chars.reshape(256, 16)\n",
    "open('char_data.bin', 'wb').write(chars.tobytes())"
   ]
  },
  {
   "cell_type": "code",
   "execution_count": null,
   "metadata": {},
   "outputs": [
    {
     "data": {
      "text/plain": [
       "3840"
      ]
     },
     "execution_count": 6,
     "metadata": {},
     "output_type": "execute_result"
    }
   ],
   "source": [
    "buf = np.zeros((30, 128), dtype = 'int8') #text buffer\n",
    "col_buf = np.zeros((30, 128), dtype = 'int8') #foreground/background buffer\n",
    "i = 0\n",
    "string = \"According to all known laws of aviation, there is no way a bee should be able to fly. Its wings are too small to get its fat little body off the ground. The bee, of course, flies anyway because bees don\\'t care what humans think is impossible. Yellow, black. Yellow, black. Yellow, black. Yellow, black. Ooh, black and yellow! Let\\'s shake it up a little. Barry! Breakfast is ready! Ooming! Hang on a second. Hello? - Barry? - Adam? - Oan you believe this is happening? - I can\\'t. I\\'ll pick you up. Looking sharp. Use the stairs. Your father paid good money for those. Sorry. I\\'m excited. Here\\'s the graduate. We\\'re very proud of you, son. A perfect report card, all B\\'s. Very proud. Ma! I got a thing going here. - You got lint on your fuzz. - Ow! That\\'s me! - Wave to us! We\\'ll be in row 118,000. - Bye! Barry, I told you, stop flying in the house! - Hey, Adam. - Hey, Barry. - Is that fuzz gel? - A little. Special day, graduation. Never thought I\\'d make it. Three days grade school, three days high school. Those were awkward. Three days college. I\\'m glad I took a day and hitchhiked around the hive. You did come back different. - Hi, Barry. - Artie, growing a mustache? Looks good. - Hear about Frankie? - Yeah. - You going to the funeral? - No, I\\'m not going. Everybody knows, sting someone, you die. Don\\'t waste it on a squirrel. Such a hothead. I guess he could have just gotten out of the way. I love this incorporating an amusement park into our day. That\\'s why we don\\'t need vacations. Boy, quite a bit of pomp... under the circumstances. - Well, Adam, today we are men. - We are! - Bee-men. - Amen! Hallelujah! Students, faculty, distinguished bees, please welcome Dean Buzzwell. Welcome, New Hive Oity graduating class of... ...9:15. That concludes our ceremonies. And begins your career at Honex Industries! Will we pick ourjob today? I heard it\\'s just orientation. Heads up! Here we go. Keep your hands and antennas inside the tram at all times. - Wonder what it\\'ll be like? - A little scary. Welcome to Honex, a division of Honesco and a part of the Hexagon Group. This is it! Wow. Wow. We know that you, as a bee, have worked your whole life to get to the point where you can work for your whole life. Honey begins when our valiant Pollen Jocks bring the nectar to the hive. Our top-secret formula is automatically color-corrected, scent-adjusted and bubble-contoured into this soothing sweet syrup with its distinctive golden glow you know as... Honey! - That girl was hot. - She\\'s my cousin! - She is? - Yes, we\\'re all cousins. - Right. You\\'re right. - At Honex, we constantly strive to improve every aspect of bee existence. These bees are stress-testing a new helmet technology. - What do you think he makes? - Not enough. Here we have our latest advancement, the Krelman. - What does that do? - Oatches that little strand of honey that hangs after you pour it. Saves us millions. Oan anyone work on the Krelman? Of course. Most bee jobs are small ones. But bees know that every small job, if it\\'s done well, means a lot. But choose carefully because you\\'ll stay in the job you pick for the rest of your life. The same job the rest of your life? I didn\\'t know that. What\\'s the difference? You\\'ll be happy to know that bees, as a species, haven\\'t had one day off in 27 million years. So you\\'ll just work us to death? We\\'ll sure try. Wow! That blew my mind! \\\"What\\'s the difference?\\\" How can you say that? One job forever? That\\'s an insane choice to have to make. I\\'m relieved. Now we only have to make one decision in life. But, Adam, how could they never have told us that? Why would you question anything? We\\'re bees. We\\'re the most perfectly functioning society on Earth. You ever think maybe things work a little too well here? Like what? Give me one example. I don\\'t know. But you know what I\\'m talking about. Please clear the gate. Royal Nectar Force on approach. Wait a second. Oheck it out. - Hey, those are Pollen Jocks! - Wow. I\\'ve never seen them this close. They know what it\\'s like outside the hive. Yeah, but some don\\'t come back. - Hey, Jocks! - Hi, Jocks! You guys did great! You\\'re monsters! You\\'re sky freaks! I love it! I love it! - I wonder where they were. - I don\\'t know. Their day\\'s not planned. Outside the hive, flying who knows where, doing who knows what. You can\\'tjust decide to be a Pollen Jock. You have to be bred for that. Right. Look. That\\'s more pollen than you and I will see in a lifetime. It\\'s just a status symbol. Bees make too much of it. Perhaps. Unless you\\'re wearing it and the ladies see you wearing it. Those ladies? Aren\\'t they our cousins too? Distant. Distant. Look at these two. - Oouple of Hive Harrys. - Let\\'s have fun with them. It must be dangerous being a Pollen Jock. Yeah. Once a bear pinned me against a mushroom! He had a paw on my throat, and with the other, he was slapping me! - Oh, my! - I never thought I\\'d knock him out. What were you doing during this? Trying to alert the authorities. I can autograph that. A little gusty out there today, wasn\\'t it, comrades? Yeah. Gusty. We\\'re hitting a sunflower patch six miles from here tomorrow. - Six miles, huh? - Barry! A puddle jump for us, but maybe you\\'re not up for it. - Maybe I am. - You are not! We\\'re going 0900 at J-Gate. What do you think, buzzy-boy? Are you bee enough? I might be. It all depends on what 0900 means. Hey, Honex! Dad, you surprised me. You decide what you\\'re interested in? - Well, there\\'s a lot of choices. - But you only get one. Do you ever get bored doing the same job every day? Son, let me tell you about stirring. You grab that stick, and you just move it around, and you stir it around. You get yourself into a rhythm. It\\'s a beautiful thing. You know, Dad, the more I think about it, maybe the honey field just isn\\'t right for me. You were thinking of what, making balloon animals? That\\'s a bad job for a guy with a stinger. Janet, your son\\'s not sure he wants to go into honey! - Barry, you are so funny sometimes. - I\\'m not trying to be funny. You\\'re not funny! You\\'re going into honey. Our son, the stirrer! - You\\'re gonna be a stirrer? - No one\\'s listening to me! Wait till you see the sticks I have. I could say anything right now. I\\'m gonna get an ant tattoo! Let\\'s open some honey and celebrate! Maybe I\\'ll pierce my thorax. Shave my antennae. Shack up with a grasshopper. Get a gold tooth and call everybody \\\"dawg\\\"! I\\'m so proud. - We\\'re starting work today! - Today\\'s the day. Oome on! All the good jobs will be gone. Yeah, right. Pollen counting, stunt bee, pouring, stirrer, front desk, hair removal... - Is it still available? - Hang on. Two left! One of them\\'s yours! Oongratulations! Step to the side. - What\\'d you get? - Picking crud out. Stellar! Wow! Oouple of newbies? Yes, sir! Our first day! We are ready! Make your choice. - You want to go first? - No, you go. Oh, my. What\\'s available? Restroom attendant\\'s open, not for the reason you think. - Any chance of getting the Krelman? - Sure, you\\'re on. I\\'m sorry, the Krelman just closed out. Wax monkey\\'s always open. The Krelman opened up again. What happened? A bee died. Makes an opening. See? He\\'s dead. Another dead one. Deady. Deadified. Two more dead. Dead from the neck up. Dead from the neck down. That\\'s life! Oh, this is so hard! Heating, cooling, stunt bee, pourer, stirrer, humming, inspector number seven, lint coordinator, stripe supervisor, mite wrangler. Barry, what do you think I should... Barry? Barry! All right, we\\'ve got the sunflower patch in quadrant nine... What happened to you? Where are you? - I\\'m going out. - Out? Out where? - Out there. - Oh, no! I have to, before I go to work for the rest of my life. You\\'re gonna die! You\\'re crazy! Hello? Another call coming in. If anyone\\'s feeling brave, there\\'s a Korean deli on 83rd that gets their roses today. Hey, guys. - Look at that. - Isn\\'t that the kid we saw yesterday? Hold it, son, flight deck\\'s restricted. It\\'s OK, Lou. We\\'re gonna take him up. Really? Feeling lucky, are you? Sign here, here. Just initial that. - Thank you. - OK. You got a rain advisory today, and as you all know, bees cannot fly in rain. So be careful. As always, watch your brooms, hockey sticks, dogs, birds, bears and bats. Also, I got a couple of reports of root beer being poured on us. Murphy\\'s in a home because of it, babbling like a cicada! - That\\'s awful. - And a reminder for you rookies, bee law number one, absolutely no talking to humans! All right, launch positions! Buzz, buzz, buzz, buzz! Buzz, buzz, buzz, buzz! Buzz, buzz, buzz, buzz! Black and yellow! Hello! You ready for this, hot shot? Yeah. Yeah, bring it on. Wind, check. - Antennae, check. - Nectar pack, check. - Wings, check. - Stinger, check. Scared out of my shorts, check. OK, ladies, let\\'s move it out! Pound those petunias, you striped stem-suckers! All of you, drain those flowers! Wow! I\\'m out! I can\\'t believe I\\'m out! So blue. I feel so fast and free! Box kite! Wow! Flowers! This is Blue Leader. We have roses visual. Bring it around 30 degrees and hold. Roses! 30 degrees, roger. Bringing it around. Stand to the side, kid. It\\'s got a bit of a kick. That is one nectar collector! - Ever see pollination up close? - No, sir. I pick up some pollen here, sprinkle it over here. Maybe a dash over there, a pinch on that one. See that? It\\'s a little bit of magic. That\\'s amazing. Why do we do that? That\\'s pollen power. More pollen, more flowers, more nectar, more honey for us. \"\n",
    "for r in range(0, 30):\n",
    "    for c in range(0, 80):\n",
    "        if r == 0 or r == 29:\n",
    "            buf[r][c] = 205\n",
    "        elif c == 0 or c == 79:\n",
    "            buf[r][c] = 186\n",
    "        elif i < len(string):\n",
    "            buf[r][c] = ord(string[i])\n",
    "            i += 1\n",
    "        col_buf[r][c] = 0xf8\n",
    "\n",
    "buf[0][0] = 201\n",
    "buf[29][0] = 200\n",
    "buf[0][79] = 187\n",
    "buf[29][79] = 188\n",
    "open('video0.bin', 'wb').write(buf.tobytes())\n",
    "open('video1.bin', 'wb').write(col_buf.tobytes())"
   ]
  },
  {
   "cell_type": "code",
   "execution_count": null,
   "metadata": {},
   "outputs": [
    {
     "data": {
      "text/plain": [
       "<matplotlib.image.AxesImage at 0x2707f4be340>"
      ]
     },
     "execution_count": 9,
     "metadata": {},
     "output_type": "execute_result"
    },
    {
     "data": {
      "image/png": "[encoded data removed]",
      "text/plain": [
       "<Figure size 1400x1400 with 1 Axes>"
      ]
     },
     "metadata": {
      "needs_background": "light"
     },
     "output_type": "display_data"
    }
   ],
   "source": [
    "char_img = np.empty((16, 8))\n",
    "for i in range(0, 16):\n",
    "    row = chars[48][i]\n",
    "    for j in range(0, 8):\n",
    "        char_img[i][j] = row & 0x80\n",
    "        row <<= 1\n",
    "import matplotlib.pyplot as plt\n",
    "plt.figure(figsize=(2,2), dpi=700)\n",
    "plt.axis('off')\n",
    "plt.imshow(img)\n"
   ]
  },
  {
   "cell_type": "code",
   "execution_count": null,
   "metadata": {},
   "outputs": [],
   "source": []
  }
 ],
 "metadata": {
  "kernelspec": {
   "display_name": "Python 3",
   "language": "python",
   "name": "python3"
  },
  "language_info": {
   "codemirror_mode": {
    "name": "ipython",
    "version": 3
   },
   "file_extension": ".py",
   "mimetype": "text/x-python",
   "name": "python",
   "nbconvert_exporter": "python",
   "pygments_lexer": "ipython3",
   "version": "3.9.9 (tags/v3.9.9:ccb0e6a, Nov 15 2021, 18:08:50) [MSC v.1929 64 bit (AMD64)]"
  },
  "vscode": {
   "interpreter": {
    "hash": "b8cd98ac651c668ce2c6203d75b23f2d5bc0a45f06efaf825f1ea3a340dc3a78"
   }
  }
 },
 "nbformat": 4,
 "nbformat_minor": 2
}
